{
  "nbformat": 4,
  "nbformat_minor": 0,
  "metadata": {
    "colab": {
      "provenance": [],
      "authorship_tag": "ABX9TyOx6bP5Eh5bl6dikMBqhXSk",
      "include_colab_link": true
    },
    "kernelspec": {
      "name": "python3",
      "display_name": "Python 3"
    },
    "language_info": {
      "name": "python"
    },
    "accelerator": "GPU",
    "gpuClass": "standard"
  },
  "cells": [
    {
      "cell_type": "markdown",
      "metadata": {
        "id": "view-in-github",
        "colab_type": "text"
      },
      "source": [
        "<a href=\"https://colab.research.google.com/github/ziyadshezoo/Testing/blob/main/intro.ipynb\" target=\"_parent\"><img src=\"https://colab.research.google.com/assets/colab-badge.svg\" alt=\"Open In Colab\"/></a>"
      ]
    },
    {
      "cell_type": "code",
      "source": [
        "import numpy as np\n",
        "import pandas as pd"
      ],
      "metadata": {
        "id": "x5czn2HD6l98"
      },
      "execution_count": 10,
      "outputs": []
    },
    {
      "cell_type": "code",
      "source": [
        "print(np.random.rand(10))"
      ],
      "metadata": {
        "colab": {
          "base_uri": "https://localhost:8080/"
        },
        "id": "dHputlBIgzmn",
        "outputId": "64d736fa-f5e0-49a2-a017-904d7b6506ea"
      },
      "execution_count": 11,
      "outputs": [
        {
          "output_type": "stream",
          "name": "stdout",
          "text": [
            "[0.68733939 0.87452449 0.96133523 0.55962672 0.51403461 0.45528015\n",
            " 0.47134023 0.99071668 0.99025224 0.81282375]\n"
          ]
        }
      ]
    },
    {
      "cell_type": "code",
      "source": [
        "np.random.random(10)"
      ],
      "metadata": {
        "colab": {
          "base_uri": "https://localhost:8080/"
        },
        "id": "_XAXllGWzpl_",
        "outputId": "328ebb29-7833-49c4-e83b-4455f754a880"
      },
      "execution_count": 12,
      "outputs": [
        {
          "output_type": "execute_result",
          "data": {
            "text/plain": [
              "array([0.863717  , 0.23156517, 0.18059711, 0.92462143, 0.45695445,\n",
              "       0.87210728, 0.27332684, 0.13783333, 0.09967189, 0.41023417])"
            ]
          },
          "metadata": {},
          "execution_count": 12
        }
      ]
    },
    {
      "cell_type": "code",
      "source": [
        "np.random.randint(0,100,5)"
      ],
      "metadata": {
        "colab": {
          "base_uri": "https://localhost:8080/"
        },
        "id": "zKXs0JFfob7M",
        "outputId": "424dcd41-c213-4b10-9803-d4583ea96752"
      },
      "execution_count": 13,
      "outputs": [
        {
          "output_type": "execute_result",
          "data": {
            "text/plain": [
              "array([94, 45, 67, 51, 26])"
            ]
          },
          "metadata": {},
          "execution_count": 13
        }
      ]
    },
    {
      "cell_type": "code",
      "source": [
        "a=np.array([])\n",
        "a= np.random.randint(0,25,(5,5))\n",
        "a=a.reshape(5,5)\n",
        "np.random.shuffle(a)\n",
        "aMax=a.max()\n",
        "print(a,\"\\n\",aMax)\n",
        "print(a.argmin(),a.argmax())"
      ],
      "metadata": {
        "colab": {
          "base_uri": "https://localhost:8080/"
        },
        "id": "cr27zJe-OGSG",
        "outputId": "18a270c1-1df1-4819-bda9-75ddf8929f41"
      },
      "execution_count": 14,
      "outputs": [
        {
          "output_type": "stream",
          "name": "stdout",
          "text": [
            "[[20 13  2 14  8]\n",
            " [11 13  8  6 24]\n",
            " [ 4  9  1 14 12]\n",
            " [16 17 19 22  8]\n",
            " [ 5  9  8 11 22]] \n",
            " 24\n",
            "12 9\n"
          ]
        }
      ]
    },
    {
      "cell_type": "code",
      "source": [
        " a1=np.ceil(2.5)\n",
        " a2=np.floor(2.5)\n",
        " a3=np.round(2.5)\n",
        " print(a1,a2,a3)"
      ],
      "metadata": {
        "colab": {
          "base_uri": "https://localhost:8080/"
        },
        "id": "y9rP8g27ifIk",
        "outputId": "fcd46efd-b800-46dd-f372-5e4df8d7aebd"
      },
      "execution_count": 15,
      "outputs": [
        {
          "output_type": "stream",
          "name": "stdout",
          "text": [
            "3.0 2.0 2.0\n"
          ]
        }
      ]
    },
    {
      "cell_type": "code",
      "source": [
        "arr1=np.array([[1,2,3],[1,2,3],[5,3,9]])\n",
        "arr2=np.array([[5,3,9],[1,2,3],[1,2,3]])\n"
      ],
      "metadata": {
        "colab": {
          "base_uri": "https://localhost:8080/",
          "height": 130
        },
        "id": "l_Kehf-OHOIW",
        "outputId": "9ba281cd-38ac-4eba-e91f-fb331ec5f448"
      },
      "execution_count": 16,
      "outputs": [
        {
          "output_type": "error",
          "ename": "SyntaxError",
          "evalue": "ignored",
          "traceback": [
            "\u001b[0;36m  File \u001b[0;32m\"<ipython-input-16-d4c1e44cdc97>\"\u001b[0;36m, line \u001b[0;32m3\u001b[0m\n\u001b[0;31m    print(np.\u001b[0m\n\u001b[0m             ^\u001b[0m\n\u001b[0;31mSyntaxError\u001b[0m\u001b[0;31m:\u001b[0m unexpected EOF while parsing\n"
          ]
        }
      ]
    },
    {
      "cell_type": "code",
      "source": [
        "l=['ahmed','mohamed','hello','ziyad']\n",
        "l2=[1,2,3,4,5,6]\n",
        "a=pd.Series(l2,index=['a','b','c','d','e','f'])\n",
        "a"
      ],
      "metadata": {
        "colab": {
          "base_uri": "https://localhost:8080/"
        },
        "id": "bJbV4jPcJQCe",
        "outputId": "4a1d7d57-6942-4f52-8fbc-d3d15c28e865"
      },
      "execution_count": 23,
      "outputs": [
        {
          "output_type": "execute_result",
          "data": {
            "text/plain": [
              "a    1\n",
              "b    2\n",
              "c    3\n",
              "d    4\n",
              "e    5\n",
              "f    6\n",
              "dtype: int64"
            ]
          },
          "metadata": {},
          "execution_count": 23
        }
      ]
    }
  ]
}